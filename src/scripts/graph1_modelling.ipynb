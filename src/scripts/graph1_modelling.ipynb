{
 "cells": [
  {
   "cell_type": "code",
   "execution_count": 25,
   "id": "5b9a3887-3dbb-4821-b2e2-29b662ddb8f3",
   "metadata": {
    "tags": []
   },
   "outputs": [
    {
     "name": "stdout",
     "output_type": "stream",
     "text": [
      "Requirement already satisfied: networkx in /opt/homebrew/Cellar/jupyterlab/3.6.1/libexec/lib/python3.11/site-packages (3.0)\n",
      "\n",
      "\u001b[1m[\u001b[0m\u001b[34;49mnotice\u001b[0m\u001b[1;39;49m]\u001b[0m\u001b[39;49m A new release of pip is available: \u001b[0m\u001b[31;49m23.0.1\u001b[0m\u001b[39;49m -> \u001b[0m\u001b[32;49m23.1.2\u001b[0m\n",
      "\u001b[1m[\u001b[0m\u001b[34;49mnotice\u001b[0m\u001b[1;39;49m]\u001b[0m\u001b[39;49m To update, run: \u001b[0m\u001b[32;49m/opt/homebrew/Cellar/jupyterlab/3.6.1/libexec/bin/python3.11 -m pip install --upgrade pip\u001b[0m\n",
      "Note: you may need to restart the kernel to use updated packages.\n",
      "Requirement already satisfied: scipy in /opt/homebrew/lib/python3.11/site-packages (1.10.0)\n",
      "Requirement already satisfied: numpy<1.27.0,>=1.19.5 in /opt/homebrew/Cellar/jupyterlab/3.6.1/libexec/lib/python3.11/site-packages (from scipy) (1.24.2)\n",
      "\n",
      "\u001b[1m[\u001b[0m\u001b[34;49mnotice\u001b[0m\u001b[1;39;49m]\u001b[0m\u001b[39;49m A new release of pip is available: \u001b[0m\u001b[31;49m23.0.1\u001b[0m\u001b[39;49m -> \u001b[0m\u001b[32;49m23.1.2\u001b[0m\n",
      "\u001b[1m[\u001b[0m\u001b[34;49mnotice\u001b[0m\u001b[1;39;49m]\u001b[0m\u001b[39;49m To update, run: \u001b[0m\u001b[32;49m/opt/homebrew/Cellar/jupyterlab/3.6.1/libexec/bin/python3.11 -m pip install --upgrade pip\u001b[0m\n",
      "Note: you may need to restart the kernel to use updated packages.\n"
     ]
    }
   ],
   "source": [
    "#build graph1 \n",
    "\n",
    "%pip install networkx\n",
    "%pip install scipy\n",
    "\n",
    "import networkx as nx\n",
    "import pandas as pd\n",
    "import os\n",
    "import numpy as np\n",
    "import matplotlib.pyplot as plt\n",
    "import time"
   ]
  },
  {
   "cell_type": "code",
   "execution_count": 33,
   "id": "1156de8c-95bc-4159-80df-45e5dd2ee266",
   "metadata": {
    "tags": []
   },
   "outputs": [],
   "source": [
    "import os\n",
    "cwd = os.getcwd()\n",
    "path =\"/\".join(list(cwd.split('/')[0:-1])) \n",
    "\n"
   ]
  },
  {
   "cell_type": "code",
   "execution_count": 34,
   "id": "e0ee6684-b66b-40cf-82ae-016d5fdf7034",
   "metadata": {
    "tags": []
   },
   "outputs": [],
   "source": [
    "\n",
    "movies_filtered = pd.read_csv(path+'/datasets/filtered_graph1_data.csv')\n",
    "\n",
    "g2 = nx.DiGraph()\n",
    "\n",
    "# Add nodes and attributes\n",
    "for row in movies_filtered.itertuples():\n",
    "    if not pd.isna(row.movie_country):\n",
    "        if g2.has_node(row.movie):\n",
    "            existing_attrs = g2.nodes[row.movie]\n",
    "            if 'country' in existing_attrs:\n",
    "                # check if country is already in the list before appending\n",
    "                if row.movie_country not in existing_attrs['country']:\n",
    "                    existing_attrs['country'].append(row.movie_country)\n",
    "            else:\n",
    "\n",
    "                g2.nodes[row.movie]['country'] = [row.movie_country]\n",
    "        else:\n",
    "            g2.add_node(row.movie, country=[row.movie_country])\n",
    "\n",
    "    if not pd.isna(row.year):\n",
    "        if g2.has_node(row.movie):\n",
    "            # add the attributes\n",
    "            g2.nodes[row.movie]['year'] = int(row.year)\n",
    "            g2.nodes[row.movie]['tconst'] = row.tconst\n",
    "            g2.nodes[row.movie]['genres'] = row.genres\n",
    "            \n",
    "\n",
    "    # add edges from movie to cited movie\n",
    "    g2.add_edge(row.movie, row.cites)\n",
    "\n",
    "    if not pd.isna(row.cites_country):\n",
    "        if g2.has_node(row.cites):\n",
    "            existing_attrs = g2.nodes[row.cites]\n",
    "            if 'country' in existing_attrs:\n",
    "\n",
    "                if row.cites_country not in existing_attrs['country']:\n",
    "                    existing_attrs['country'].append(row.cites_country)\n",
    "            else:\n",
    "                g2.nodes[row.cites]['country'] = [row.cites_country]\n",
    "        else:\n",
    "            g2.add_node(row.cites, country=[row.cites_country])\n",
    "\n",
    "    if not pd.isna(row.year_cit):\n",
    "        if g2.has_node(row.cites):\n",
    "            g2.nodes[row.cites]['year'] = int(row.year_cit)\n",
    "            g2.nodes[row.cites]['tconst']= row.tconst_cit\n",
    "            g2.nodes[row.cites]['genres'] = row.genres_cit\n"
   ]
  },
  {
   "cell_type": "code",
   "execution_count": 35,
   "id": "81d9da20-81e5-483a-8cf5-26bc3fb0f8b2",
   "metadata": {},
   "outputs": [
    {
     "data": {
      "text/plain": [
       "<networkx.classes.digraph.DiGraph at 0x1565a0f50>"
      ]
     },
     "execution_count": 35,
     "metadata": {},
     "output_type": "execute_result"
    }
   ],
   "source": [
    "g2\n",
    "\n"
   ]
  },
  {
   "cell_type": "code",
   "execution_count": 37,
   "id": "7c79f056-2e50-4dc2-9631-31452f27ef45",
   "metadata": {
    "tags": []
   },
   "outputs": [],
   "source": [
    "\n",
    "# convert the 'country' attribute from list to string for saving purposes\n",
    "for node in g2.nodes:\n",
    "    if 'country' in g2.nodes[node]:\n",
    "        g2.nodes[node]['country'] = ','.join(g2.nodes[node]['country'])\n",
    "\n"
   ]
  },
  {
   "cell_type": "code",
   "execution_count": 38,
   "id": "e10c77dc-1cbd-4be1-a933-816c68576b90",
   "metadata": {
    "tags": []
   },
   "outputs": [
    {
     "data": {
      "text/plain": [
       "86944"
      ]
     },
     "execution_count": 38,
     "metadata": {},
     "output_type": "execute_result"
    }
   ],
   "source": [
    "len(g2.edges)"
   ]
  },
  {
   "cell_type": "code",
   "execution_count": 47,
   "id": "d6f5f211-82db-44a6-8518-0bcce88288ca",
   "metadata": {
    "tags": []
   },
   "outputs": [
    {
     "data": {
      "text/plain": [
       "['2001: A Space Odyssey (1968)',\n",
       " 'Dark Star (1974)',\n",
       " 'It! The Terror from Beyond Space (1958)',\n",
       " 'Jaws (1975)',\n",
       " 'Night of the Living Dead (1968)',\n",
       " \"Singin' in the Rain (1952)\",\n",
       " 'The Texas Chain Saw Massacre (1974)']"
      ]
     },
     "execution_count": 47,
     "metadata": {},
     "output_type": "execute_result"
    }
   ],
   "source": [
    "list(g2.adj['Alien (1979)'])"
   ]
  },
  {
   "cell_type": "code",
   "execution_count": 40,
   "id": "06d66d47-50cb-4413-aa0f-dfe9aa5a0da2",
   "metadata": {
    "tags": []
   },
   "outputs": [],
   "source": [
    "nx.write_gexf(g2, path+'/graph_files/graph-movie-cit.gexf')\n",
    "nx.write_edgelist(g2,path+'/graph_files/graph-movie-cit.edgelist')"
   ]
  },
  {
   "cell_type": "code",
   "execution_count": 52,
   "id": "0c1d951d-f700-4adc-9fa0-003eddb22476",
   "metadata": {
    "tags": []
   },
   "outputs": [
    {
     "data": {
      "text/plain": [
       "InEdgeDataView([('*batteries not included (1987)', 'The Wizard of Oz (1939)'), ('...tick... tick... tick... (1970)', 'The Wizard of Oz (1939)'), ('100 Girls (2000)', 'The Wizard of Oz (1939)'), ('102 Dalmatians (2000)', 'The Wizard of Oz (1939)'), ('1941 (1979)', 'The Wizard of Oz (1939)'), ('24x36: A Movie About Movie Posters (2016)', 'The Wizard of Oz (1939)'), ('30 Minutes or Less (2011)', 'The Wizard of Oz (1939)'), ('A Century of Cinema (1994)', 'The Wizard of Oz (1939)'), ('A Christmas Story (1983)', 'The Wizard of Oz (1939)'), ('A Cinderella Story (2004)', 'The Wizard of Oz (1939)'), ('A League of Their Own (1992)', 'The Wizard of Oz (1939)'), ('A Patch of Blue (1965)', 'The Wizard of Oz (1939)'), ('A Thousand Clowns (1965)', 'The Wizard of Oz (1939)'), ('A Very Brady Sequel (1996)', 'The Wizard of Oz (1939)'), ('A Wedding (1978)', 'The Wizard of Oz (1939)'), ('AMV Hell 3: The Motion Picture (2005)', 'The Wizard of Oz (1939)'), ('Above the Law (1988)', 'The Wizard of Oz (1939)'), ('Addams Family Values (1993)', 'The Wizard of Oz (1939)'), ('After Hours (1985)', 'The Wizard of Oz (1939)'), ('Airplane! (1980)', 'The Wizard of Oz (1939)'), ('Alferd Packer: The Musical (1993)', 'The Wizard of Oz (1939)'), (\"Alice Doesn't Live Here Anymore (1974)\", 'The Wizard of Oz (1939)'), ('Alice in Wonderland (1949)', 'The Wizard of Oz (1939)'), ('Alice in Wonderland: An X-Rated Musical Fantasy (1976)', 'The Wizard of Oz (1939)'), ('Alien Species (1996)', 'The Wizard of Oz (1939)'), ('Alien from L.A. (1988)', 'The Wizard of Oz (1939)'), ('All About Evil (2010)', 'The Wizard of Oz (1939)'), ('All That I Need (2005)', 'The Wizard of Oz (1939)'), ('Alone in the T-Shirt Zone (1986)', 'The Wizard of Oz (1939)'), ('Alvin and the Chipmunks: The Squeakquel (2009)', 'The Wizard of Oz (1939)'), ('Amanda by Night 2 (1988)', 'The Wizard of Oz (1939)'), ('American Honey (2016)', 'The Wizard of Oz (1939)'), ('American Pop (1981)', 'The Wizard of Oz (1939)'), ('An American Carol (2008)', 'The Wizard of Oz (1939)'), ('An Easter Bunny Puppy (2013)', 'The Wizard of Oz (1939)'), ('An Everlasting Piece (2000)', 'The Wizard of Oz (1939)'), ('Android Cop (2014)', 'The Wizard of Oz (1939)'), ('Anger Management (2003)', 'The Wizard of Oz (1939)'), ('Angus, Thongs and Perfect Snogging (2008)', 'The Wizard of Oz (1939)'), ('Annie Hall (1977)', 'The Wizard of Oz (1939)'), ('Another Gay Sequel: Gays Gone Wild! (2008)', 'The Wizard of Oz (1939)'), ('Apple Pie (1976)', 'The Wizard of Oz (1939)'), ('Arizona Dream (1993)', 'The Wizard of Oz (1939)'), ('Arlington Road (1999)', 'The Wizard of Oz (1939)'), ('Army of Darkness (1992)', 'The Wizard of Oz (1939)'), ('Austin Powers: The Spy Who Shagged Me (1999)', 'The Wizard of Oz (1939)'), ('Australia (2008)', 'The Wizard of Oz (1939)'), ('Avatar (2009)', 'The Wizard of Oz (1939)'), ('Baby on Board (1992)', 'The Wizard of Oz (1939)'), ('Back to the Future Part III (1990)', 'The Wizard of Oz (1939)'), ('Backfire! (1995)', 'The Wizard of Oz (1939)'), ('Bad Santa (2003)', 'The Wizard of Oz (1939)'), ('Bad Santa 2 (2016)', 'The Wizard of Oz (1939)'), ('Bait (2000)', 'The Wizard of Oz (1939)'), ('Bambi (1942)', 'The Wizard of Oz (1939)'), ('Barb Wire (1996)', 'The Wizard of Oz (1939)'), (\"Barney's Great Adventure (1998)\", 'The Wizard of Oz (1939)'), ('Batman (1989)', 'The Wizard of Oz (1939)'), ('Batman v Superman: Dawn of Justice (2016)', 'The Wizard of Oz (1939)'), ('Be Cool (2005)', 'The Wizard of Oz (1939)'), ('Beautiful Girls (1996)', 'The Wizard of Oz (1939)'), ('Beauty and the Beast (1991)', 'The Wizard of Oz (1939)'), ('Bedtime Stories (2008)', 'The Wizard of Oz (1939)'), ('Beetlejuice (1988)', 'The Wizard of Oz (1939)'), ('Before Stonewall (1984)', 'The Wizard of Oz (1939)'), ('Betty (1997)', 'The Wizard of Oz (1939)'), ('Beverly Kills (2005)', 'The Wizard of Oz (1939)'), ('Bewitched (2005)', 'The Wizard of Oz (1939)'), ('Bicentennial Man (1999)', 'The Wizard of Oz (1939)'), ('Big Bully (1996)', 'The Wizard of Oz (1939)'), ('Big Fish (2003)', 'The Wizard of Oz (1939)'), ('Big Money Rustlas (2010)', 'The Wizard of Oz (1939)'), ('Blackfish (2013)', 'The Wizard of Oz (1939)'), ('Blended (2014)', 'The Wizard of Oz (1939)'), ('Blobermouth (1991)', 'The Wizard of Oz (1939)'), ('Blonde Ambition (2007)', 'The Wizard of Oz (1939)'), ('Blue Steel (1989)', 'The Wizard of Oz (1939)'), ('Blue Velvet (1986)', 'The Wizard of Oz (1939)'), ('Blue Vinyl (2002)', 'The Wizard of Oz (1939)'), ('Body Double (1984)', 'The Wizard of Oz (1939)'), (\"Boffo! Tinseltown's Bombs and Blockbusters (2006)\", 'The Wizard of Oz (1939)'), ('Boxcar Bertha (1972)', 'The Wizard of Oz (1939)'), ('Boys Life: Three Stories of Love, Lust, and Liberation (1994)', 'The Wizard of Oz (1939)'), ('Brewster McCloud (1970)', 'The Wizard of Oz (1939)'), ('Bring It On (2000)', 'The Wizard of Oz (1939)'), ('Broadway Melody of 1940 (1940)', 'The Wizard of Oz (1939)'), ('Bubble Boy (2001)', 'The Wizard of Oz (1939)'), ('Buffy the Vampire Slayer (1992)', 'The Wizard of Oz (1939)'), ('Bug Buster (1998)', 'The Wizard of Oz (1939)'), ('Bullet (1996)', 'The Wizard of Oz (1939)'), ('Bunraku (2010)', 'The Wizard of Oz (1939)'), ('Buried Alive (2007)', 'The Wizard of Oz (1939)'), ('Bye Bye Braverman (1968)', 'The Wizard of Oz (1939)'), ('Cabin Boy (1994)', 'The Wizard of Oz (1939)'), ('Cabin Fever (2002)', 'The Wizard of Oz (1939)'), ('Cabin in the Sky (1943)', 'The Wizard of Oz (1939)'), ('Cannery Row (1982)', 'The Wizard of Oz (1939)'), ('Casper (1995)', 'The Wizard of Oz (1939)'), ('Cats & Dogs (2001)', 'The Wizard of Oz (1939)'), (\"Cats Don't Dance (1997)\", 'The Wizard of Oz (1939)'), ('Cecil B. DeMented (2000)', 'The Wizard of Oz (1939)'), ('Chapter 27 (2007)', 'The Wizard of Oz (1939)'), ('Charlie and the Chocolate Factory (2005)', 'The Wizard of Oz (1939)'), ('Chicago Cab (1997)', 'The Wizard of Oz (1939)'), ('Children of the Corn (1984)', 'The Wizard of Oz (1939)'), ('Children of the Corn II: The Final Sacrifice (1992)', 'The Wizard of Oz (1939)'), ('Children on Their Birthdays (2002)', 'The Wizard of Oz (1939)'), ('Chuck & Buck (2000)', 'The Wizard of Oz (1939)'), ('Chump Change (2000)', 'The Wizard of Oz (1939)'), ('Cinderella (1950)', 'The Wizard of Oz (1939)'), ('Citizen Ruth (1996)', 'The Wizard of Oz (1939)'), ('Citizen Toxie: The Toxic Avenger IV (2000)', 'The Wizard of Oz (1939)'), (\"Class of Nuke 'Em High Part 3: The Good, the Bad and the Subhumanoid (1994)\", 'The Wizard of Oz (1939)'), ('Cloudy with a Chance of Meatballs (2009)', 'The Wizard of Oz (1939)'), ('Clownhouse (1989)', 'The Wizard of Oz (1939)'), ('Clueless (1995)', 'The Wizard of Oz (1939)'), ('College Road Trip (2008)', 'The Wizard of Oz (1939)'), (\"Comin' Round the Mountain (1951)\", 'The Wizard of Oz (1939)'), ('Conan the Barbarian (1982)', 'The Wizard of Oz (1939)'), ('Confessions of a Shopaholic (2009)', 'The Wizard of Oz (1939)'), ('Contact (1997)', 'The Wizard of Oz (1939)'), ('Corrina, Corrina (1994)', 'The Wizard of Oz (1939)'), ('Crimes of Passion (1984)', 'The Wizard of Oz (1939)'), ('Cruising (1980)', 'The Wizard of Oz (1939)'), ('D-Tox (2002)', 'The Wizard of Oz (1939)'), ('Dahmer vs. Gacy (2010)', 'The Wizard of Oz (1939)'), ('Dark City (1998)', 'The Wizard of Oz (1939)'), ('Darkest Hour (2005)', 'The Wizard of Oz (1939)'), ('Dead End (1985)', 'The Wizard of Oz (1939)'), ('Dead Heat (1988)', 'The Wizard of Oz (1939)'), ('Dead Silent (1999)', 'The Wizard of Oz (1939)'), ('Deadland (2009)', 'The Wizard of Oz (1939)'), ('Deadpool (2016)', 'The Wizard of Oz (1939)'), ('Death Proof (2007)', 'The Wizard of Oz (1939)'), ('Death Wish (1974)', 'The Wizard of Oz (1939)'), ('Deathstalker II (1987)', 'The Wizard of Oz (1939)'), ('Defective Man! (2009)', 'The Wizard of Oz (1939)'), ('Definitely, Maybe (2008)', 'The Wizard of Oz (1939)'), ('Demon in the Bottle (1996)', 'The Wizard of Oz (1939)'), ('Desert Mirage (2016)', 'The Wizard of Oz (1939)'), ('Despicable Me 2 (2013)', 'The Wizard of Oz (1939)'), (\"Devil's Den (2006)\", 'The Wizard of Oz (1939)'), ('Diary of a Wimpy Kid (2010)', 'The Wizard of Oz (1939)'), ('Die unendliche Geschichte III: Rettung aus Phantasien (1994)', 'The Wizard of Oz (1939)'), ('Dinosaur Island (1994)', 'The Wizard of Oz (1939)'), ('Dirty Love (2005)', 'The Wizard of Oz (1939)'), ('Distant Cousins (1993)', 'The Wizard of Oz (1939)'), ('Divine Secrets of the Ya-Ya Sisterhood (2002)', 'The Wizard of Oz (1939)'), ('Divine Trash (1998)', 'The Wizard of Oz (1939)'), (\"Don't Blink (2014)\", 'The Wizard of Oz (1939)'), ('Double Dragon (1994)', 'The Wizard of Oz (1939)'), ('Dr. Giggles (1992)', 'The Wizard of Oz (1939)'), ('Dr. Phibes Rises Again (1972)', 'The Wizard of Oz (1939)'), ('Drawing Down the Moon (1997)', 'The Wizard of Oz (1939)'), ('Drowning Mona (2000)', 'The Wizard of Oz (1939)'), ('Dudley Do-Right (1999)', 'The Wizard of Oz (1939)'), ('Dumb and Dumber (1994)', 'The Wizard of Oz (1939)'), ('E.T. the Extra-Terrestrial (1982)', 'The Wizard of Oz (1939)'), ('Earth Girls Are Easy (1988)', 'The Wizard of Oz (1939)'), ('El laberinto del fauno (2006)', 'The Wizard of Oz (1939)'), ('Elvira: Mistress of the Dark (1988)', 'The Wizard of Oz (1939)'), ('Employee of the Month (2004)', 'The Wizard of Oz (1939)'), ('Enoken no songokû: songokû zenko-hen (1940)', 'The Wizard of Oz (1939)'), ('Entertainment (2015)', 'The Wizard of Oz (1939)'), ('Ernest Goes to School (1994)', 'The Wizard of Oz (1939)'), ('Ernest Scared Stupid (1991)', 'The Wizard of Oz (1939)'), ('Everybody Loves It (1964)', 'The Wizard of Oz (1939)'), ('Everybody Wants Some!! (2016)', 'The Wizard of Oz (1939)'), ('Evil Dead II (1987)', 'The Wizard of Oz (1939)'), ('Evolution (2001)', 'The Wizard of Oz (1939)'), ('Expelled: No Intelligence Allowed (2008)', 'The Wizard of Oz (1939)'), ('Eyes Wide Shut (1999)', 'The Wizard of Oz (1939)'), ('Face/Off (1997)', 'The Wizard of Oz (1939)'), (\"Father's Little Dividend (1951)\", 'The Wizard of Oz (1939)'), ('Field of Dreams (1989)', 'The Wizard of Oz (1939)'), ('Fifty Pills (2006)', 'The Wizard of Oz (1939)'), (\"Finder's Fee (2001)\", 'The Wizard of Oz (1939)'), ('Finders Keepers (1984)', 'The Wizard of Oz (1939)'), ('Finding Vivian Maier (2013)', 'The Wizard of Oz (1939)'), ('Fired Up! (2009)', 'The Wizard of Oz (1939)'), ('First Kid (1996)', 'The Wizard of Oz (1939)'), ('Flames of Rage: The Legend of Bobby Jimmerson (1994)', 'The Wizard of Oz (1939)'), ('Flash Gordon (1980)', 'The Wizard of Oz (1939)'), ('Follow That Bird (1985)', 'The Wizard of Oz (1939)'), ('For Love of the Game (1999)', 'The Wizard of Oz (1939)'), ('Fred Claus (2007)', 'The Wizard of Oz (1939)'), (\"Freddy's Dead: The Final Nightmare (1991)\", 'The Wizard of Oz (1939)'), ('Free Enterprise (1998)', 'The Wizard of Oz (1939)'), ('Fresh (1994)', 'The Wizard of Oz (1939)'), ('Friends and Family (2001)', 'The Wizard of Oz (1939)'), ('Fun Size (2012)', 'The Wizard of Oz (1939)'), ('Funny People (2009)', 'The Wizard of Oz (1939)'), ('G-Force (2009)', 'The Wizard of Oz (1939)'), ('G.I. Joe: Retaliation (2013)', 'The Wizard of Oz (1939)'), ('Gay Sex in the 70s (2005)', 'The Wizard of Oz (1939)'), ('Germ (2013)', 'The Wizard of Oz (1939)'), ('Getting That Girl (2011)', 'The Wizard of Oz (1939)'), ('Ghostbusters (2016)', 'The Wizard of Oz (1939)'), ('Ghosts of Girlfriends Past (2009)', 'The Wizard of Oz (1939)'), ('Ghosts of the Abyss (2003)', 'The Wizard of Oz (1939)'), ('Gingerdead Man 2: Passion of the Crust (2008)', 'The Wizard of Oz (1939)'), ('Girl Most Likely (2012)', 'The Wizard of Oz (1939)'), ('Girl, Interrupted (1999)', 'The Wizard of Oz (1939)'), ('Girls Nite Out (1982)', 'The Wizard of Oz (1939)'), (\"God's Army (2000)\", 'The Wizard of Oz (1939)'), ('Going Back (1984)', 'The Wizard of Oz (1939)'), ('Good Morning, Vietnam (1987)', 'The Wizard of Oz (1939)'), ('Gorp (1980)', 'The Wizard of Oz (1939)'), ('Grassroots (2012)', 'The Wizard of Oz (1939)'), ('Gremlins (1984)', 'The Wizard of Oz (1939)'), ('Gremlins 2: The New Batch (1990)', 'The Wizard of Oz (1939)'), ('Grumpier Old Men (1995)', 'The Wizard of Oz (1939)'), ('Hacksaw Ridge (2016)', 'The Wizard of Oz (1939)'), ('Halloween II (2009)', 'The Wizard of Oz (1939)'), (\"Hangman's Curse (2003)\", 'The Wizard of Oz (1939)'), ('Hannah Takes the Stairs (2007)', 'The Wizard of Oz (1939)'), ('Hansel & Gretel (2002)', 'The Wizard of Oz (1939)'), (\"Happily N'Ever After (2006)\", 'The Wizard of Oz (1939)'), ('Happy Together (1989)', 'The Wizard of Oz (1939)'), ('Harlem Aria (1999)', 'The Wizard of Oz (1939)'), ('Hauru no ugoku shiro (2004)', 'The Wizard of Oz (1939)'), ('Hausu (1977)', 'The Wizard of Oz (1939)'), ('Headhunter (1988)', 'The Wizard of Oz (1939)'), ('Heathers (1988)', 'The Wizard of Oz (1939)'), ('Hellboy II: The Golden Army (2008)', 'The Wizard of Oz (1939)'), ('Hellgate (1989)', 'The Wizard of Oz (1939)'), ('High Anxiety (1977)', 'The Wizard of Oz (1939)'), ('High Barbaree (1947)', 'The Wizard of Oz (1939)'), ('High School Musical 3: Senior Year (2008)', 'The Wizard of Oz (1939)'), ('Highway to Hell (1991)', 'The Wizard of Oz (1939)'), ('Hocus Pocus (1993)', 'The Wizard of Oz (1939)'), ('Hollywood Mouth (2008)', 'The Wizard of Oz (1939)'), ('Hollywood Mouth 2 (2014)', 'The Wizard of Oz (1939)'), ('Honey, I Shrunk the Kids (1989)', 'The Wizard of Oz (1939)'), ('Hoodwinked! (2005)', 'The Wizard of Oz (1939)'), ('Hot Shots! Part Deux (1993)', 'The Wizard of Oz (1939)'), ('Hotel Transylvania (2012)', 'The Wizard of Oz (1939)'), ('House (2008)', 'The Wizard of Oz (1939)'), ('How the Grinch Stole Christmas (2000)', 'The Wizard of Oz (1939)'), ('Hurricane Bianca (2016)', 'The Wizard of Oz (1939)'), ('I Am Number Four (2011)', 'The Wizard of Oz (1939)'), ('I Am Sam (2001)', 'The Wizard of Oz (1939)'), ('I Hope They Serve Beer in Hell (2009)', 'The Wizard of Oz (1939)'), ('I Wake Up Screaming (1941)', 'The Wizard of Oz (1939)'), ('I.Q. (1994)', 'The Wizard of Oz (1939)'), ('Ido zero daisakusen (1969)', 'The Wizard of Oz (1939)'), ('Igor (2008)', 'The Wizard of Oz (1939)'), ('In a Spiral State (2009)', 'The Wizard of Oz (1939)'), ('Independence Day (1996)', 'The Wizard of Oz (1939)'), ('Ingenious (2009)', 'The Wizard of Oz (1939)'), ('Inglourious Basterds (2009)', 'The Wizard of Oz (1939)'), ('Inkheart (2008)', 'The Wizard of Oz (1939)'), ('Interrupted Melody (1955)', 'The Wizard of Oz (1939)'), ('It Came from Hollywood (1982)', 'The Wizard of Oz (1939)'), ('Jack (1996)', 'The Wizard of Oz (1939)'), ('Jack and the Beanstalk (1952)', 'The Wizard of Oz (1939)'), ('Jacknife (1989)', 'The Wizard of Oz (1939)'), (\"Jane Austen's Mafia! (1998)\", 'The Wizard of Oz (1939)'), ('Jersey Boys (2014)', 'The Wizard of Oz (1939)'), ('Jewtopia (2012)', 'The Wizard of Oz (1939)'), ('Jingle All the Way (1996)', 'The Wizard of Oz (1939)'), ('Jinxed! (1982)', 'The Wizard of Oz (1939)'), ('Joe Dirt (2001)', 'The Wizard of Oz (1939)'), ('John Q (2002)', 'The Wizard of Oz (1939)'), ('Journey Back to Oz (1972)', 'The Wizard of Oz (1939)'), ('Jumanji (1995)', 'The Wizard of Oz (1939)'), ('Junior Miss (1945)', 'The Wizard of Oz (1939)'), ('Just Go with It (2011)', 'The Wizard of Oz (1939)'), ('Katy Perry: Part of Me (2012)', 'The Wizard of Oz (1939)'), ('Killer Klowns from Outer Space (1988)', 'The Wizard of Oz (1939)'), ('Killer Party (1986)', 'The Wizard of Oz (1939)'), ('Killer Tomatoes Eat France! (1992)', 'The Wizard of Oz (1939)'), ('Kissing Darkness (2014)', 'The Wizard of Oz (1939)'), ('Krush Groove (1985)', 'The Wizard of Oz (1939)'), ('Kung Phooey! (2003)', 'The Wizard of Oz (1939)'), ('Labyrinth (1986)', 'The Wizard of Oz (1939)'), ('Last Action Hero (1993)', 'The Wizard of Oz (1939)'), ('Legally Blonde 2: Red, White & Blonde (2003)', 'The Wizard of Oz (1939)'), (\"Legends of Oz: Dorothy's Return (2013)\", 'The Wizard of Oz (1939)'), ('Leprechaun: Origins (2014)', 'The Wizard of Oz (1939)'), ('License to Wed (2007)', 'The Wizard of Oz (1939)'), ('Life Itself (2014)', 'The Wizard of Oz (1939)'), ('Lionheart (1990)', 'The Wizard of Oz (1939)'), ('Little Fish, Strange Pond (2009)', 'The Wizard of Oz (1939)'), ('Little Monsters (1989)', 'The Wizard of Oz (1939)'), ('Little Nicky (2000)', 'The Wizard of Oz (1939)'), ('Little Shop of Horrors (1986)', 'The Wizard of Oz (1939)'), ('Live Evil (2009)', 'The Wizard of Oz (1939)'), ('Live Free or Die (2006)', 'The Wizard of Oz (1939)'), ('Living in Oblivion (1995)', 'The Wizard of Oz (1939)'), ('Loose Cannons (1990)', 'The Wizard of Oz (1939)'), ('Loose Shoes (1978)', 'The Wizard of Oz (1939)'), ('Lost River (2014)', 'The Wizard of Oz (1939)'), ('Lost in La Mancha (2002)', 'The Wizard of Oz (1939)'), ('Lost in Space (1998)', 'The Wizard of Oz (1939)'), ('Love Me or Leave Me (1955)', 'The Wizard of Oz (1939)'), ('Lucky Numbers (2000)', 'The Wizard of Oz (1939)'), ('Lymelife (2008)', 'The Wizard of Oz (1939)'), ('Mad Love (1995)', 'The Wizard of Oz (1939)'), ('Made of Honor (2008)', 'The Wizard of Oz (1939)'), ('Madonna: Truth or Dare (1991)', 'The Wizard of Oz (1939)'), ('Magic Christmas Tree (1964)', 'The Wizard of Oz (1939)'), ('Maid to Order (1987)', 'The Wizard of Oz (1939)'), ('Majo no takkyûbin (1989)', 'The Wizard of Oz (1939)'), ('Man with the Screaming Brain (2005)', 'The Wizard of Oz (1939)'), ('Mannequin: On the Move (1991)', 'The Wizard of Oz (1939)'), ('Maple Palm (2006)', 'The Wizard of Oz (1939)'), ('Maps to the Stars (2014)', 'The Wizard of Oz (1939)'), (\"Marilyn Hotchkiss' Ballroom Dancing & Charm School (2005)\", 'The Wizard of Oz (1939)'), ('Mark of Love (2009)', 'The Wizard of Oz (1939)'), ('Marley & Me (2008)', 'The Wizard of Oz (1939)'), ('Marmaduke (2010)', 'The Wizard of Oz (1939)'), ('Mars Attacks! (1996)', 'The Wizard of Oz (1939)'), ('Masters of the Universe (1987)', 'The Wizard of Oz (1939)'), ('Me and Earl and the Dying Girl (2015)', 'The Wizard of Oz (1939)'), ('Me, Myself & Irene (2000)', 'The Wizard of Oz (1939)'), ('Meatballs 4 (1992)', 'The Wizard of Oz (1939)'), ('Megamind (2010)', 'The Wizard of Oz (1939)'), ('Melody Time (1948)', 'The Wizard of Oz (1939)'), ('Memories of Me (1988)', 'The Wizard of Oz (1939)'), ('Men Without Jobs (2004)', 'The Wizard of Oz (1939)'), ('Men in Black (1997)', 'The Wizard of Oz (1939)'), (\"Michael Jackson's Journey from Motown to Off the Wall (2016)\", 'The Wizard of Oz (1939)'), ('Midgets Vs. Mascots (2009)', 'The Wizard of Oz (1939)'), ('Midnight Hard (1971)', 'The Wizard of Oz (1939)'), ('Mighty Morphin Power Rangers: The Movie (1995)', 'The Wizard of Oz (1939)'), (\"Miller's Crossing (1990)\", 'The Wizard of Oz (1939)'), ('Mind Games: A Love Story (2005)', 'The Wizard of Oz (1939)'), ('Minority Report (2002)', 'The Wizard of Oz (1939)'), ('Miracle (2004)', 'The Wizard of Oz (1939)'), ('Miracles from Heaven (2016)', 'The Wizard of Oz (1939)'), ('Miss Congeniality (2000)', 'The Wizard of Oz (1939)'), ('Miss Representation (2011)', 'The Wizard of Oz (1939)'), ('Mississippi Grind (2015)', 'The Wizard of Oz (1939)'), ('Molly (1999)', 'The Wizard of Oz (1939)'), ('Mondo Trasho (1969)', 'The Wizard of Oz (1939)'), ('Money Train (1995)', 'The Wizard of Oz (1939)'), ('Monkey Trouble (1994)', 'The Wizard of Oz (1939)'), ('Monster in a Box (1992)', 'The Wizard of Oz (1939)'), ('Monsters vs. Aliens (2009)', 'The Wizard of Oz (1939)'), ('Moonwalker (1988)', 'The Wizard of Oz (1939)'), ('More Than Frybread (2011)', 'The Wizard of Oz (1939)'), ('Movie Madness (1982)', 'The Wizard of Oz (1939)'), ('Mr. Peabody & Sherman (2014)', 'The Wizard of Oz (1939)'), ('Mulholland Dr. (2001)', 'The Wizard of Oz (1939)'), ('Muppets 201: Rarities from the Henson Vault (2009)', 'The Wizard of Oz (1939)'), ('Muppets from Space (1999)', 'The Wizard of Oz (1939)'), ('Murder of a Cat (2014)', 'The Wizard of Oz (1939)'), ('Music Within (2007)', 'The Wizard of Oz (1939)'), ('My Favorite Martian (1999)', 'The Wizard of Oz (1939)'), ('My Fellow Americans (1996)', 'The Wizard of Oz (1939)'), ('My Life (1993)', 'The Wizard of Oz (1939)'), ('My Little Pony: Equestria Girls (2013)', 'The Wizard of Oz (1939)'), ('My Science Project (1985)', 'The Wizard of Oz (1939)'), ('My Super Ex-Girlfriend (2006)', 'The Wizard of Oz (1939)'), ('Mysterious Skin (2004)', 'The Wizard of Oz (1939)'), ('Mystery Science Theater 3000: The Movie (1996)', 'The Wizard of Oz (1939)'), ('Nashville (1975)', 'The Wizard of Oz (1939)'), ('Natural Born Killers (1994)', 'The Wizard of Oz (1939)'), ('Never Been Kissed (1999)', 'The Wizard of Oz (1939)'), ('New Terminal Hotel (2010)', 'The Wizard of Oz (1939)'), ('Night at the Museum: Battle of the Smithsonian (2009)', 'The Wizard of Oz (1939)'), ('Night of the Demons (1988)', 'The Wizard of Oz (1939)'), ('Night of the Scarecrow (1995)', 'The Wizard of Oz (1939)'), ('Nightbreed (1990)', 'The Wizard of Oz (1939)'), ('Nightstalker (2002)', 'The Wizard of Oz (1939)'), ('Nightwish (1989)', 'The Wizard of Oz (1939)'), ('Now You See Me 2 (2016)', 'The Wizard of Oz (1939)'), ('Nurse Betty (2000)', 'The Wizard of Oz (1939)'), ('O Brother, Where Art Thou? (2000)', 'The Wizard of Oz (1939)'), ('O.C. and Stiggs (1985)', 'The Wizard of Oz (1939)'), ('Office Space (1999)', 'The Wizard of Oz (1939)'), ('One Fine Day (1996)', 'The Wizard of Oz (1939)'), ('One Million AC/DC (1969)', 'The Wizard of Oz (1939)'), ('One True Thing (1998)', 'The Wizard of Oz (1939)'), ('Otis (2008)', 'The Wizard of Oz (1939)'), ('Our Idiot Brother (2011)', 'The Wizard of Oz (1939)'), ('Outbreak (1995)', 'The Wizard of Oz (1939)'), ('Oz the Great and Powerful (2013)', 'The Wizard of Oz (1939)'), ('Ozu no mahôtsukai (1982)', 'The Wizard of Oz (1939)'), ('Palm Harbor Vice (1991)', 'The Wizard of Oz (1939)'), ('Pandemonium (1982)', 'The Wizard of Oz (1939)'), ('ParaNorman (2012)', 'The Wizard of Oz (1939)'), ('Pawn Shop Chronicles (2013)', 'The Wizard of Oz (1939)'), (\"Pee-wee's Big Adventure (1985)\", 'The Wizard of Oz (1939)'), ('Peggy Sue Got Married (1986)', 'The Wizard of Oz (1939)'), ('Pelvis (1977)', 'The Wizard of Oz (1939)'), ('People Like Us (2012)', 'The Wizard of Oz (1939)'), ('Percy Jackson & the Olympians: The Lightning Thief (2010)', 'The Wizard of Oz (1939)'), ('Permanent Vacation (1980)', 'The Wizard of Oz (1939)'), ('Peter Pan (2003)', 'The Wizard of Oz (1939)'), ('Phat Girlz (2006)', 'The Wizard of Oz (1939)'), ('Philomena (2013)', 'The Wizard of Oz (1939)'), ('Pinocchio (1940)', 'The Wizard of Oz (1939)'), ('Planet of the Apes (2001)', 'The Wizard of Oz (1939)'), ('Pleasantville (1998)', 'The Wizard of Oz (1939)'), ('Poltergeist (1982)', 'The Wizard of Oz (1939)'), ('Poltergeist II: The Other Side (1986)', 'The Wizard of Oz (1939)'), ('Popcorn (1991)', 'The Wizard of Oz (1939)'), (\"Porky's II: The Next Day (1983)\", 'The Wizard of Oz (1939)'), ('Porn Star: The Legend of Ron Jeremy (2001)', 'The Wizard of Oz (1939)'), ('Poster Boy (2004)', 'The Wizard of Oz (1939)'), ('Practical Magic (1998)', 'The Wizard of Oz (1939)'), ('Predator 2 (1990)', 'The Wizard of Oz (1939)'), ('Problem Child 2 (1991)', 'The Wizard of Oz (1939)'), ('Psycho Beach Party (2000)', 'The Wizard of Oz (1939)'), ('Pufnstuf (1970)', 'The Wizard of Oz (1939)'), ('Punch-Drunk Love (2002)', 'The Wizard of Oz (1939)'), ('Purgatory House (2004)', 'The Wizard of Oz (1939)'), (\"Puss 'n Boots (1982)\", 'The Wizard of Oz (1939)'), ('Queen of the Damned (2002)', 'The Wizard of Oz (1939)'), ('Raggedy Ann & Andy: A Musical Adventure (1977)', 'The Wizard of Oz (1939)'), ('Raiders of the Lost Ark (1981)', 'The Wizard of Oz (1939)'), ('Rapid Fire (1989)', 'The Wizard of Oz (1939)'), ('Real Genius (1985)', 'The Wizard of Oz (1939)'), ('Reality Check (2002)', 'The Wizard of Oz (1939)'), ('Redneck Zombies (1989)', 'The Wizard of Oz (1939)'), ('Relentless (1989)', 'The Wizard of Oz (1939)'), ('Renaldo and Clara (1978)', 'The Wizard of Oz (1939)'), ('Rent (2005)', 'The Wizard of Oz (1939)'), ('Repossessed (1990)', 'The Wizard of Oz (1939)'), ('Reservoir Dogs (1992)', 'The Wizard of Oz (1939)'), ('Return of the Killer Tomatoes! (1988)', 'The Wizard of Oz (1939)'), ('Return to Oz (1985)', 'The Wizard of Oz (1939)'), ('Return to Oz: The Joy That Got Away (2007)', 'The Wizard of Oz (1939)'), ('RiffTrax Live: Jack the Giant Killer (2011)', 'The Wizard of Oz (1939)'), ('RiffTrax Live: Plan 9 from Outer Space (2009)', 'The Wizard of Oz (1939)'), ('Rio (2011)', 'The Wizard of Oz (1939)'), ('Robin Hood (1973)', 'The Wizard of Oz (1939)'), ('RoboCop (2014)', 'The Wizard of Oz (1939)'), ('Robots (2005)', 'The Wizard of Oz (1939)'), ('RocketMan (1997)', 'The Wizard of Oz (1939)'), ('Roll Bounce (2005)', 'The Wizard of Oz (1939)'), ('Rookie of the Year (1993)', 'The Wizard of Oz (1939)'), ('Runner Runner (2013)', 'The Wizard of Oz (1939)'), ('Rush Hour 2 (2001)', 'The Wizard of Oz (1939)'), ('Sausage Party (2016)', 'The Wizard of Oz (1939)'), ('Saved! (2004)', 'The Wizard of Oz (1939)'), ('School Daze (1988)', 'The Wizard of Oz (1939)'), ('Scout Camp (2009)', 'The Wizard of Oz (1939)'), ('Scrooged (1988)', 'The Wizard of Oz (1939)'), ('Selena (1997)', 'The Wizard of Oz (1939)'), ('Sen to Chihiro no kamikakushi (2001)', 'The Wizard of Oz (1939)'), ('Serendipity (2001)', 'The Wizard of Oz (1939)'), ('Seven Days to Live (2000)', 'The Wizard of Oz (1939)'), ('Sex and the City (2008)', 'The Wizard of Oz (1939)'), ('Sex and the City 2 (2010)', 'The Wizard of Oz (1939)'), (\"She's Gotta Have It (1986)\", 'The Wizard of Oz (1939)'), ('Sherrybaby (2006)', 'The Wizard of Oz (1939)'), ('Shoot the Moon (1982)', 'The Wizard of Oz (1939)'), ('Shrek (2001)', 'The Wizard of Oz (1939)'), ('Shrek 2 (2004)', 'The Wizard of Oz (1939)'), ('Shrek Forever After (2010)', 'The Wizard of Oz (1939)'), ('Shrek the Third (2007)', 'The Wizard of Oz (1939)'), ('Shutter Island (2010)', 'The Wizard of Oz (1939)'), ('Side by Side (2012)', 'The Wizard of Oz (1939)'), (\"Sign 'o' the Times (1987)\", 'The Wizard of Oz (1939)'), ('Signs (2002)', 'The Wizard of Oz (1939)'), ('Silent Movie (1976)', 'The Wizard of Oz (1939)'), ('Sinbad: The Battle of the Dark Knights (1998)', 'The Wizard of Oz (1939)'), ('Six-String Samurai (1998)', 'The Wizard of Oz (1939)'), ('Skeeter (1993)', 'The Wizard of Oz (1939)'), ('Sky Captain and the World of Tomorrow (2004)', 'The Wizard of Oz (1939)'), ('Slacker (1991)', 'The Wizard of Oz (1939)'), ('Slaughterhouse-Five (1972)', 'The Wizard of Oz (1939)'), ('Sleepaway Camp (1983)', 'The Wizard of Oz (1939)'), ('Sleepaway Camp II: Unhappy Campers (1988)', 'The Wizard of Oz (1939)'), ('Sleepless in Seattle (1993)', 'The Wizard of Oz (1939)'), ('Slugs, muerte viscosa (1988)', 'The Wizard of Oz (1939)'), ('Small Town Saturday Night (2010)', 'The Wizard of Oz (1939)'), ('Smokey and the Bandit (1977)', 'The Wizard of Oz (1939)'), ('Smurfs: The Lost Village (2017)', 'The Wizard of Oz (1939)'), ('Sneakers (1992)', 'The Wizard of Oz (1939)'), ('Snow Days (1999)', 'The Wizard of Oz (1939)'), ('Snow White and the Three Stooges (1961)', 'The Wizard of Oz (1939)'), ('Soapdish (1991)', 'The Wizard of Oz (1939)'), ('Sordid Lives (2000)', 'The Wizard of Oz (1939)'), ('South Beach Academy (1996)', 'The Wizard of Oz (1939)'), ('South Park: Bigger, Longer & Uncut (1999)', 'The Wizard of Oz (1939)'), ('Spaceballs (1987)', 'The Wizard of Oz (1939)'), ('Spawn (1997)', 'The Wizard of Oz (1939)'), ('Sphere (1998)', 'The Wizard of Oz (1939)'), ('Spider-Man (2002)', 'The Wizard of Oz (1939)'), ('Spiders (2000)', 'The Wizard of Oz (1939)'), ('Spring Break (1983)', 'The Wizard of Oz (1939)'), ('Spy Kids (2001)', 'The Wizard of Oz (1939)'), ('St. Helens (1981)', 'The Wizard of Oz (1939)'), ('Star Trek: First Contact (1996)', 'The Wizard of Oz (1939)'), ('Star Wars (1977)', 'The Wizard of Oz (1939)'), ('Star Wars: Episode I - The Phantom Menace (1999)', 'The Wizard of Oz (1939)'), ('Star Wars: Episode II - Attack of the Clones (2002)', 'The Wizard of Oz (1939)'), ('Starchaser: The Legend of Orin (1985)', 'The Wizard of Oz (1939)'), ('Starsky & Hutch (2004)', 'The Wizard of Oz (1939)'), ('Stay Tuned (1992)', 'The Wizard of Oz (1939)'), ('Steel (1997)', 'The Wizard of Oz (1939)'), ('Step Brothers (2008)', 'The Wizard of Oz (1939)'), ('Stonewall (1995)', 'The Wizard of Oz (1939)'), ('Stop! Or My Mom Will Shoot (1992)', 'The Wizard of Oz (1939)'), ('Storm Chasing: The Anthology (2016)', 'The Wizard of Oz (1939)'), ('Strangeland (1998)', 'The Wizard of Oz (1939)'), ('Strays (1997)', 'The Wizard of Oz (1939)'), ('Street Fighter (1994)', 'The Wizard of Oz (1939)'), ('Strictly Background (2007)', 'The Wizard of Oz (1939)'), (\"Stryker's War (1985)\", 'The Wizard of Oz (1939)'), ('Stuck on You (2003)', 'The Wizard of Oz (1939)'), ('Student Bodies (1981)', 'The Wizard of Oz (1939)'), ('Sucker Punch (2011)', 'The Wizard of Oz (1939)'), (\"Sullivan's Travels (1941)\", 'The Wizard of Oz (1939)'), ('Summer School (1987)', 'The Wizard of Oz (1939)'), ('Super Mario Bros. (1993)', 'The Wizard of Oz (1939)'), ('Surrender Dorothy (1998)', 'The Wizard of Oz (1939)'), ('Surviving Eden (2004)', 'The Wizard of Oz (1939)'), ('Swamp Thing (1982)', 'The Wizard of Oz (1939)'), ('Sweet Bird of Youth (1962)', 'The Wizard of Oz (1939)'), ('Sweetheart (1977)', 'The Wizard of Oz (1939)'), ('Sweethearts (1997)', 'The Wizard of Oz (1939)'), ('Swingers (1996)', 'The Wizard of Oz (1939)'), ('TRON (1982)', 'The Wizard of Oz (1939)'), ('Tales of Halloween (2015)', 'The Wizard of Oz (1939)'), ('Tammy and the T-Rex (1994)', 'The Wizard of Oz (1939)'), ('Tank Girl (1995)', 'The Wizard of Oz (1939)'), (\"Teacher's Pet (2004)\", 'The Wizard of Oz (1939)'), ('Teaching Mrs. Tingle (1999)', 'The Wizard of Oz (1939)'), ('Ten Inch Hero (2007)', 'The Wizard of Oz (1939)'), ('Tenkû no shiro Rapyuta (1986)', 'The Wizard of Oz (1939)'), ('Terminator 2: Judgment Day (1991)', 'The Wizard of Oz (1939)'), ('Terms of Endearment (1983)', 'The Wizard of Oz (1939)'), (\"That's Dancing! (1985)\", 'The Wizard of Oz (1939)'), (\"That's Entertainment! (1974)\", 'The Wizard of Oz (1939)'), (\"That's Entertainment! III (1994)\", 'The Wizard of Oz (1939)'), (\"That's Right - You're Wrong (1939)\", 'The Wizard of Oz (1939)'), ('The Abominable Dr. Phibes (1971)', 'The Wizard of Oz (1939)'), ('The Adventures of Elmo in Grouchland (1999)', 'The Wizard of Oz (1939)'), ('The Adventures of Ford Fairlane (1990)', 'The Wizard of Oz (1939)'), ('The Adventures of Rocky & Bullwinkle (2000)', 'The Wizard of Oz (1939)'), ('The Adventures of Sharkboy and Lavagirl 3-D (2005)', 'The Wizard of Oz (1939)'), ('The Amazing Spider-Man 2 (2014)', 'The Wizard of Oz (1939)'), ('The Avengers (2012)', 'The Wizard of Oz (1939)'), ('The Back-up Plan (2010)', 'The Wizard of Oz (1939)'), ('The Believer (2001)', 'The Wizard of Oz (1939)'), ('The Benchwarmers (2006)', 'The Wizard of Oz (1939)'), ('The Big Wedding (2013)', 'The Wizard of Oz (1939)'), ('The Blair Witch Project (1999)', 'The Wizard of Oz (1939)'), ('The Blind Side (2009)', 'The Wizard of Oz (1939)'), (\"The Blizzard of AAHHH's (1988)\", 'The Wizard of Oz (1939)'), ('The Blue Bird (1940)', 'The Wizard of Oz (1939)'), ('The Bonfire of the Vanities (1990)', 'The Wizard of Oz (1939)'), ('The Boy Next Door (2015)', 'The Wizard of Oz (1939)'), ('The Brave Little Toaster (1987)', 'The Wizard of Oz (1939)'), ('The Cat in the Hat (2003)', 'The Wizard of Oz (1939)'), ('The Cheerleaders (1973)', 'The Wizard of Oz (1939)'), ('The Cheyenne Social Club (1970)', 'The Wizard of Oz (1939)'), ('The Cockettes (2002)', 'The Wizard of Oz (1939)'), ('The Crow: Wicked Prayer (2005)', 'The Wizard of Oz (1939)'), ('The Curse of the Were-Rabbit (2005)', 'The Wizard of Oz (1939)'), ('The Cutting Edge: The Magic of Movie Editing (2004)', 'The Wizard of Oz (1939)'), ('The Dangerous Lives of Altar Boys (2002)', 'The Wizard of Oz (1939)'), (\"The Devil's Rejects (2005)\", 'The Wizard of Oz (1939)'), (\"The Emperor's New Groove (2000)\", 'The Wizard of Oz (1939)'), ('The End of Violence (1997)', 'The Wizard of Oz (1939)'), ('The Faculty (1998)', 'The Wizard of Oz (1939)'), ('The Feminine Touch (1941)', 'The Wizard of Oz (1939)'), ('The Final Girls (2015)', 'The Wizard of Oz (1939)'), ('The Game (1997)', 'The Wizard of Oz (1939)'), ('The Gamers: Dorkness Rising (2008)', 'The Wizard of Oz (1939)'), ('The Glenn Miller Story (1954)', 'The Wizard of Oz (1939)'), ('The Goodbye Girl (1977)', 'The Wizard of Oz (1939)'), ('The Haunted Mansion (2003)', 'The Wizard of Oz (1939)'), ('The Heartbreak Kid (2007)', 'The Wizard of Oz (1939)'), (\"The Hitchhiker's Guide to the Galaxy (2005)\", 'The Wizard of Oz (1939)'), ('The Hollywood Shorties (2016)', 'The Wizard of Oz (1939)'), ('The House Bunny (2008)', 'The Wizard of Oz (1939)'), ('The House on Sorority Row (1983)', 'The Wizard of Oz (1939)'), ('The Hudsucker Proxy (1994)', 'The Wizard of Oz (1939)'), ('The Hunchback of Notre Dame (1996)', 'The Wizard of Oz (1939)'), ('The Hunger Games (2012)', 'The Wizard of Oz (1939)'), ('The Ice Harvest (2005)', 'The Wizard of Oz (1939)'), ('The Incredible Burt Wonderstone (2013)', 'The Wizard of Oz (1939)'), ('The Initiation (1984)', 'The Wizard of Oz (1939)'), (\"The Internet's Own Boy: The Story of Aaron Swartz (2014)\", 'The Wizard of Oz (1939)'), ('The Joneses (2009)', 'The Wizard of Oz (1939)'), ('The Kentucky Fried Movie (1977)', 'The Wizard of Oz (1939)'), ('The LEGO Batman Movie (2017)', 'The Wizard of Oz (1939)'), ('The Last Days of Disco (1998)', 'The Wizard of Oz (1939)'), ('The Legend of Lylah Clare (1968)', 'The Wizard of Oz (1939)'), ('The Line King: The Al Hirschfeld Story (1996)', 'The Wizard of Oz (1939)'), ('The Locusts (1997)', 'The Wizard of Oz (1939)'), ('The Lookout (2007)', 'The Wizard of Oz (1939)'), ('The Lost Remake of Beau Geste (2013)', 'The Wizard of Oz (1939)'), ('The Love Guru (2008)', 'The Wizard of Oz (1939)'), ('The Magic Hat (1977)', 'The Wizard of Oz (1939)'), ('The Majestic (2001)', 'The Wizard of Oz (1939)'), ('The Mask (1994)', 'The Wizard of Oz (1939)'), ('The Master of Disguise (2002)', 'The Wizard of Oz (1939)'), ('The Matrix (1999)', 'The Wizard of Oz (1939)'), ('The Matrix Reloaded (2003)', 'The Wizard of Oz (1939)'), ('The Matrix Revolutions (2003)', 'The Wizard of Oz (1939)'), ('The Mighty (1998)', 'The Wizard of Oz (1939)'), ('The Misadventures of Margaret (1998)', 'The Wizard of Oz (1939)'), ('The Monster Squad (1987)', 'The Wizard of Oz (1939)'), ('The Mummy (1999)', 'The Wizard of Oz (1939)'), ('The Mummy Returns (2001)', 'The Wizard of Oz (1939)'), ('The Muppet Movie (1979)', 'The Wizard of Oz (1939)'), ('The Mystery of Spoon River (2000)', 'The Wizard of Oz (1939)'), ('The Naked Gun 2½: The Smell of Fear (1991)', 'The Wizard of Oz (1939)'), ('The Nanny Diaries (2007)', 'The Wizard of Oz (1939)'), ('The Nature of the Beast (1995)', 'The Wizard of Oz (1939)'), ('The Nightmare Before Christmas (1993)', 'The Wizard of Oz (1939)'), ('The Ninth Configuration (1980)', 'The Wizard of Oz (1939)'), ('The Notorious Bettie Page (2005)', 'The Wizard of Oz (1939)'), ('The Omega Man (1971)', 'The Wizard of Oz (1939)'), ('The Pagemaster (1994)', 'The Wizard of Oz (1939)'), ('The People vs. Larry Flynt (1996)', 'The Wizard of Oz (1939)'), ('The Pest (1997)', 'The Wizard of Oz (1939)'), ('The Philadelphia Story (1940)', 'The Wizard of Oz (1939)'), ('The Pink Panther Strikes Again (1976)', 'The Wizard of Oz (1939)'), ('The Player (1992)', 'The Wizard of Oz (1939)'), ('The Pleasure of Your Company (2006)', 'The Wizard of Oz (1939)'), ('The Powerpuff Girls Movie (2002)', 'The Wizard of Oz (1939)'), ('The Producers (1967)', 'The Wizard of Oz (1939)'), ('The Producers (2005)', 'The Wizard of Oz (1939)'), ('The Puffy Chair (2005)', 'The Wizard of Oz (1939)'), ('The Race to Save 100 Years (1997)', 'The Wizard of Oz (1939)'), ('The Red Brick Road (2000)', 'The Wizard of Oz (1939)'), ('The Reinactors (2008)', 'The Wizard of Oz (1939)'), ('The Resurrection of Gavin Stone (2016)', 'The Wizard of Oz (1939)'), ('The Rocky Horror Picture Show (1975)', 'The Wizard of Oz (1939)'), ('The Rookie (2002)', 'The Wizard of Oz (1939)'), ('The Rugrats Movie (1998)', 'The Wizard of Oz (1939)'), ('The Runestone (1991)', 'The Wizard of Oz (1939)'), ('The Savages (2007)', 'The Wizard of Oz (1939)'), ('The Secret Life of Walter Mitty (2013)', 'The Wizard of Oz (1939)'), ('The Simpsons Movie (2007)', 'The Wizard of Oz (1939)'), (\"The Slammin' Salmon (2009)\", 'The Wizard of Oz (1939)'), ('The Slaughter (2006)', 'The Wizard of Oz (1939)'), ('The Smurfs (2011)', 'The Wizard of Oz (1939)'), ('The Straight Story (1999)', 'The Wizard of Oz (1939)'), ('The Sunchaser (1996)', 'The Wizard of Oz (1939)'), ('The Sweetest Thing (2002)', 'The Wizard of Oz (1939)'), ('The Thin Pink Line (1998)', 'The Wizard of Oz (1939)'), ('The Toxic Avenger Part III: The Last Temptation of Toxie (1989)', 'The Wizard of Oz (1939)'), ('The Unborn (2009)', 'The Wizard of Oz (1939)'), ('The White River Kid (1999)', 'The Wizard of Oz (1939)'), ('The Whole Nine Yards (2000)', 'The Wizard of Oz (1939)'), ('The Wild (2006)', 'The Wizard of Oz (1939)'), ('The Wild Rebels (1967)', 'The Wizard of Oz (1939)'), ('The Wizard (1989)', 'The Wizard of Oz (1939)'), ('The Wizard of Gore (1970)', 'The Wizard of Oz (1939)'), ('The Wizard of Oz (1991)', 'The Wizard of Oz (1939)'), ('The Wizard of Speed and Time (1988)', 'The Wizard of Oz (1939)'), ('The Wolf of Wall Street (2013)', 'The Wizard of Oz (1939)'), ('The Wonderful World of Oz: Celebrating the Oz Community (2013)', 'The Wizard of Oz (1939)'), ('The World of Tomorrow (1984)', 'The Wizard of Oz (1939)'), ('The Yellow Cab Man (1950)', 'The Wizard of Oz (1939)'), ('Thelma & Louise (1991)', 'The Wizard of Oz (1939)'), ('These Amazing Shadows (2011)', 'The Wizard of Oz (1939)'), ('Thir13en Ghosts (2001)', 'The Wizard of Oz (1939)'), ('Third Finger, Left Hand (1940)', 'The Wizard of Oz (1939)'), ('This Is 40 (2012)', 'The Wizard of Oz (1939)'), ('Ticker (2001)', 'The Wizard of Oz (1939)'), ('Tin Man (1983)', 'The Wizard of Oz (1939)'), ('Tinseltown (1997)', 'The Wizard of Oz (1939)'), ('Tiny Furniture (2010)', 'The Wizard of Oz (1939)'), ('To Wong Foo Thanks for Everything, Julie Newmar (1995)', 'The Wizard of Oz (1939)'), ('Tomorrowland (2015)', 'The Wizard of Oz (1939)'), ('Toolbox Murders (2004)', 'The Wizard of Oz (1939)'), ('Top Secret! (1984)', 'The Wizard of Oz (1939)'), ('Tower Heist (2011)', 'The Wizard of Oz (1939)'), ('Toy Story (1995)', 'The Wizard of Oz (1939)'), ('Toy Story 3 (2010)', 'The Wizard of Oz (1939)'), ('Traceroute (2016)', 'The Wizard of Oz (1939)'), ('Transformers: Revenge of the Fallen (2009)', 'The Wizard of Oz (1939)'), ('Trantasia (2006)', 'The Wizard of Oz (1939)'), ('Trees Lounge (1996)', 'The Wizard of Oz (1939)'), ('Troll (1986)', 'The Wizard of Oz (1939)'), ('Turk 182! (1985)', 'The Wizard of Oz (1939)'), ('Twister (1996)', 'The Wizard of Oz (1939)'), ('Two Men in Town (2014)', 'The Wizard of Oz (1939)'), ('Two Ninas (1999)', 'The Wizard of Oz (1939)'), ('U Turn (1997)', 'The Wizard of Oz (1939)'), ('Ultrachrist! (2003)', 'The Wizard of Oz (1939)'), ('Under the Rainbow (1981)', 'The Wizard of Oz (1939)'), ('United 93 (2006)', 'The Wizard of Oz (1939)'), ('Unstable Fables: 3 Pigs & a Baby (2008)', 'The Wizard of Oz (1939)'), ('Up (2009)', 'The Wizard of Oz (1939)'), ('Uptown Girls (2003)', 'The Wizard of Oz (1939)'), ('Vamp (1986)', 'The Wizard of Oz (1939)'), ('Vampire Academy (2014)', 'The Wizard of Oz (1939)'), ('Van Helsing (2004)', 'The Wizard of Oz (1939)'), ('Virtuosity (1995)', 'The Wizard of Oz (1939)'), ('Visions of Light (1992)', 'The Wizard of Oz (1939)'), ('Vito (2011)', 'The Wizard of Oz (1939)'), ('Volcano (1997)', 'The Wizard of Oz (1939)'), ('Volunteers (1985)', 'The Wizard of Oz (1939)'), ('WUSA (1970)', 'The Wizard of Oz (1939)'), ('Waiting for Guffman (1996)', 'The Wizard of Oz (1939)'), ('Waking Up in Reno (2002)', 'The Wizard of Oz (1939)'), ('Walk Hard: The Dewey Cox Story (2007)', 'The Wizard of Oz (1939)'), ('Walk of Shame (2014)', 'The Wizard of Oz (1939)'), ('Warlock (1989)', 'The Wizard of Oz (1939)'), ('Waterworld (1995)', 'The Wizard of Oz (1939)'), ('Week-End at the Waldorf (1945)', 'The Wizard of Oz (1939)'), ('Welcome to Collinwood (2002)', 'The Wizard of Oz (1939)'), ('Whatever It Takes (2000)', 'The Wizard of Oz (1939)'), ('When Do We Eat? (2005)', 'The Wizard of Oz (1939)'), ('When in Rome (2010)', 'The Wizard of Oz (1939)'), ('Where to Invade Next (2015)', 'The Wizard of Oz (1939)'), ('Whip It (2009)', 'The Wizard of Oz (1939)'), ('White House Madness (1975)', 'The Wizard of Oz (1939)'), ('White Irish Drinkers (2010)', 'The Wizard of Oz (1939)'), ('Whiteboyz (1999)', 'The Wizard of Oz (1939)'), ('Who Framed Roger Rabbit (1988)', 'The Wizard of Oz (1939)'), ('Who Is Harry Kellerman and Why Is He Saying Those Terrible Things About Me? (1971)', 'The Wizard of Oz (1939)'), (\"Who's That Girl (1987)\", 'The Wizard of Oz (1939)'), ('Wicked (2019)', 'The Wizard of Oz (1939)'), ('Wicked Stepmother (1989)', 'The Wizard of Oz (1939)'), ('Wild at Heart (1990)', 'The Wizard of Oz (1939)'), ('Winnie the Pooh (2011)', 'The Wizard of Oz (1939)'), ('Won Ton Ton: The Dog Who Saved Hollywood (1976)', 'The Wizard of Oz (1939)'), ('Wonderland (1997)', 'The Wizard of Oz (1939)'), ('Working Girl (1988)', 'The Wizard of Oz (1939)'), ('World Without End (1956)', 'The Wizard of Oz (1939)'), ('Wreck-It Ralph (2012)', 'The Wizard of Oz (1939)'), ('X-Men: The Last Stand (2006)', 'The Wizard of Oz (1939)'), ('YellowBrickRoad (2010)', 'The Wizard of Oz (1939)'), ('Yoga Hosers (2016)', 'The Wizard of Oz (1939)'), (\"You've Got Mail (1998)\", 'The Wizard of Oz (1939)'), ('Yu-Gi-Oh! The Movie (2004)', 'The Wizard of Oz (1939)'), ('Zardoz (1974)', 'The Wizard of Oz (1939)'), ('Zebrahead (1992)', 'The Wizard of Oz (1939)'), ('Zombie Farm (2007)', 'The Wizard of Oz (1939)'), ('Zoolander (2001)', 'The Wizard of Oz (1939)'), ('The Land of Oz (2015)', 'The Wizard of Oz (1939)')])"
      ]
     },
     "execution_count": 52,
     "metadata": {},
     "output_type": "execute_result"
    }
   ],
   "source": [
    "att = nx.get_node_attributes(g2,'genres')\n",
    "\n",
    "node = \"The Wizard of Oz (1939)\"  # example node ID \n",
    "\n",
    "# get  incoming edges of the node\n",
    "incoming_edges = g2.in_edges(node)\n",
    "    \n",
    "incoming_edges"
   ]
  },
  {
   "cell_type": "code",
   "execution_count": 42,
   "id": "c943fd7a-e0ab-4a06-9544-9d310a611d5a",
   "metadata": {},
   "outputs": [],
   "source": [
    "#APPLYING MEASURES ON NETWORK GRAPH"
   ]
  },
  {
   "cell_type": "code",
   "execution_count": null,
   "id": "b3e10045",
   "metadata": {},
   "outputs": [],
   "source": []
  }
 ],
 "metadata": {
  "interpreter": {
   "hash": "aee8b7b246df8f9039afb4144a1f6fd8d2ca17a180786b69acc140d282b71a49"
  },
  "kernelspec": {
   "display_name": "Python 3 (ipykernel)",
   "language": "python",
   "name": "python3"
  },
  "language_info": {
   "codemirror_mode": {
    "name": "ipython",
    "version": 3
   },
   "file_extension": ".py",
   "mimetype": "text/x-python",
   "name": "python",
   "nbconvert_exporter": "python",
   "pygments_lexer": "ipython3",
   "version": "3.11.2"
  }
 },
 "nbformat": 4,
 "nbformat_minor": 5
}
